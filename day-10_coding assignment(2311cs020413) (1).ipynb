{
 "cells": [
  {
   "cell_type": "code",
   "execution_count": 1,
   "id": "f01a62ec",
   "metadata": {},
   "outputs": [
    {
     "name": "stdout",
     "output_type": "stream",
     "text": [
      "Grouped by Account_Type:\n",
      "                   Total_Transaction_Amount  Average_Account_Balance\n",
      "Account_Type                                                        \n",
      "Current                            15052.57              9893.404000\n",
      "Fixed Deposit                      14102.59              6120.380000\n",
      "Recurring Deposit                  15179.99              7627.283333\n",
      "Savings                             9781.44              9134.110000\n",
      "\n",
      "Grouped by Branch:\n",
      "          Total_Transactions  Average_Transaction_Amount\n",
      "Branch                                                  \n",
      "Central                    8                 2942.338750\n",
      "Downtown                   3                 3188.703333\n",
      "Suburban                   5                 2773.278000\n",
      "Uptown                     4                 1786.345000\n"
     ]
    }
   ],
   "source": [
    "import pandas as pd\n",
    "\n",
    "\n",
    "file_path = 'Day_9_banking_data.csv'  \n",
    "banking_data = pd.read_csv(file_path)\n",
    "\n",
    "\n",
    "account_type_group = banking_data.groupby('Account_Type').agg(\n",
    "    Total_Transaction_Amount=('Transaction_Amount', 'sum'),\n",
    "    Average_Account_Balance=('Account_Balance', 'mean')\n",
    ")\n",
    "\n",
    "\n",
    "branch_group = banking_data.groupby('Branch').agg(\n",
    "    Total_Transactions=('Transaction_Amount', 'count'),\n",
    "    Average_Transaction_Amount=('Transaction_Amount', 'mean')\n",
    ")\n",
    "\n",
    "\n",
    "print(\"Grouped by Account_Type:\")\n",
    "print(account_type_group)\n",
    "\n",
    "print(\"\\nGrouped by Branch:\")\n",
    "print(branch_group)\n",
    "\n"
   ]
  },
  {
   "cell_type": "code",
   "execution_count": null,
   "id": "584238fa",
   "metadata": {},
   "outputs": [],
   "source": []
  }
 ],
 "metadata": {
  "kernelspec": {
   "display_name": "Python 3 (ipykernel)",
   "language": "python",
   "name": "python3"
  },
  "language_info": {
   "codemirror_mode": {
    "name": "ipython",
    "version": 3
   },
   "file_extension": ".py",
   "mimetype": "text/x-python",
   "name": "python",
   "nbconvert_exporter": "python",
   "pygments_lexer": "ipython3",
   "version": "3.11.5"
  }
 },
 "nbformat": 4,
 "nbformat_minor": 5
}
