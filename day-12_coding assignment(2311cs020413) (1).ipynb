{
 "cells": [
  {
   "cell_type": "code",
   "execution_count": 7,
   "id": "09151e54",
   "metadata": {},
   "outputs": [
    {
     "data": {
      "text/html": [
       "<div>\n",
       "<style scoped>\n",
       "    .dataframe tbody tr th:only-of-type {\n",
       "        vertical-align: middle;\n",
       "    }\n",
       "\n",
       "    .dataframe tbody tr th {\n",
       "        vertical-align: top;\n",
       "    }\n",
       "\n",
       "    .dataframe thead th {\n",
       "        text-align: right;\n",
       "    }\n",
       "</style>\n",
       "<table border=\"1\" class=\"dataframe\">\n",
       "  <thead>\n",
       "    <tr style=\"text-align: right;\">\n",
       "      <th></th>\n",
       "      <th>Date</th>\n",
       "      <th>Account_Type</th>\n",
       "      <th>Branch</th>\n",
       "      <th>Transaction_Type</th>\n",
       "      <th>Transaction_Amount</th>\n",
       "      <th>Account_Balance</th>\n",
       "    </tr>\n",
       "  </thead>\n",
       "  <tbody>\n",
       "    <tr>\n",
       "      <th>0</th>\n",
       "      <td>2023-01-19</td>\n",
       "      <td>Fixed Deposit</td>\n",
       "      <td>Central</td>\n",
       "      <td>Loan Payment</td>\n",
       "      <td>985.51</td>\n",
       "      <td>6839.59</td>\n",
       "    </tr>\n",
       "    <tr>\n",
       "      <th>1</th>\n",
       "      <td>2023-01-16</td>\n",
       "      <td>Current</td>\n",
       "      <td>Uptown</td>\n",
       "      <td>Withdrawal</td>\n",
       "      <td>641.43</td>\n",
       "      <td>8908.39</td>\n",
       "    </tr>\n",
       "    <tr>\n",
       "      <th>2</th>\n",
       "      <td>2023-01-10</td>\n",
       "      <td>Current</td>\n",
       "      <td>Uptown</td>\n",
       "      <td>Loan Payment</td>\n",
       "      <td>3363.85</td>\n",
       "      <td>12428.67</td>\n",
       "    </tr>\n",
       "    <tr>\n",
       "      <th>3</th>\n",
       "      <td>2023-01-18</td>\n",
       "      <td>Savings</td>\n",
       "      <td>Uptown</td>\n",
       "      <td>Loan Payment</td>\n",
       "      <td>1914.60</td>\n",
       "      <td>5776.63</td>\n",
       "    </tr>\n",
       "    <tr>\n",
       "      <th>4</th>\n",
       "      <td>2023-01-14</td>\n",
       "      <td>Recurring Deposit</td>\n",
       "      <td>Suburban</td>\n",
       "      <td>Loan Payment</td>\n",
       "      <td>2788.57</td>\n",
       "      <td>4779.04</td>\n",
       "    </tr>\n",
       "  </tbody>\n",
       "</table>\n",
       "</div>"
      ],
      "text/plain": [
       "         Date       Account_Type    Branch Transaction_Type  \\\n",
       "0  2023-01-19      Fixed Deposit   Central     Loan Payment   \n",
       "1  2023-01-16            Current    Uptown       Withdrawal   \n",
       "2  2023-01-10            Current    Uptown     Loan Payment   \n",
       "3  2023-01-18            Savings    Uptown     Loan Payment   \n",
       "4  2023-01-14  Recurring Deposit  Suburban     Loan Payment   \n",
       "\n",
       "   Transaction_Amount  Account_Balance  \n",
       "0              985.51          6839.59  \n",
       "1              641.43          8908.39  \n",
       "2             3363.85         12428.67  \n",
       "3             1914.60          5776.63  \n",
       "4             2788.57          4779.04  "
      ]
     },
     "execution_count": 7,
     "metadata": {},
     "output_type": "execute_result"
    }
   ],
   "source": [
    "# Re-import necessary library\n",
    "import pandas as pd\n",
    "\n",
    "# Reload the dataset\n",
    "file_path = 'Day_12_banking_data.csv'\n",
    "banking_data = pd.read_csv(file_path)\n",
    "\n",
    "# Display the first few rows of the dataset for inspection\n",
    "banking_data.head()\n"
   ]
  },
  {
   "cell_type": "code",
   "execution_count": null,
   "id": "9b9da269",
   "metadata": {},
   "outputs": [],
   "source": []
  },
  {
   "cell_type": "code",
   "execution_count": null,
   "id": "bea126db",
   "metadata": {},
   "outputs": [],
   "source": []
  }
 ],
 "metadata": {
  "kernelspec": {
   "display_name": "Python 3 (ipykernel)",
   "language": "python",
   "name": "python3"
  },
  "language_info": {
   "codemirror_mode": {
    "name": "ipython",
    "version": 3
   },
   "file_extension": ".py",
   "mimetype": "text/x-python",
   "name": "python",
   "nbconvert_exporter": "python",
   "pygments_lexer": "ipython3",
   "version": "3.11.5"
  }
 },
 "nbformat": 4,
 "nbformat_minor": 5
}
